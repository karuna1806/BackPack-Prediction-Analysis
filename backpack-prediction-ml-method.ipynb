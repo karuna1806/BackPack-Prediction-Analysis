{
 "cells": [
  {
   "cell_type": "code",
   "execution_count": 1,
   "id": "5994dcb0",
   "metadata": {
    "_cell_guid": "b1076dfc-b9ad-4769-8c92-a6c4dae69d19",
    "_uuid": "8f2839f25d086af736a60e9eeb907d3b93b6e0e5",
    "execution": {
     "iopub.execute_input": "2025-02-16T16:38:28.846695Z",
     "iopub.status.busy": "2025-02-16T16:38:28.846381Z",
     "iopub.status.idle": "2025-02-16T16:38:29.703159Z",
     "shell.execute_reply": "2025-02-16T16:38:29.701903Z"
    },
    "jupyter": {
     "source_hidden": true
    },
    "papermill": {
     "duration": 0.864583,
     "end_time": "2025-02-16T16:38:29.704824",
     "exception": false,
     "start_time": "2025-02-16T16:38:28.840241",
     "status": "completed"
    },
    "tags": []
   },
   "outputs": [
    {
     "name": "stdout",
     "output_type": "stream",
     "text": [
      "/kaggle/input/playground-series-s5e2/sample_submission.csv\n",
      "/kaggle/input/playground-series-s5e2/train.csv\n",
      "/kaggle/input/playground-series-s5e2/test.csv\n",
      "/kaggle/input/playground-series-s5e2/training_extra.csv\n"
     ]
    }
   ],
   "source": [
    "# This Python 3 environment comes with many helpful analytics libraries installed\n",
    "# It is defined by the kaggle/python Docker image: https://github.com/kaggle/docker-python\n",
    "# For example, here's several helpful packages to load\n",
    "\n",
    "import numpy as np # linear algebra\n",
    "import pandas as pd # data processing, CSV file I/O (e.g. pd.read_csv)\n",
    "\n",
    "# Input data files are available in the read-only \"../input/\" directory\n",
    "# For example, running this (by clicking run or pressing Shift+Enter) will list all files under the input directory\n",
    "\n",
    "import os\n",
    "for dirname, _, filenames in os.walk('/kaggle/input'):\n",
    "    for filename in filenames:\n",
    "        print(os.path.join(dirname, filename))\n",
    "\n",
    "# You can write up to 20GB to the current directory (/kaggle/working/) that gets preserved as output when you create a version using \"Save & Run All\" \n",
    "# You can also write temporary files to /kaggle/temp/, but they won't be saved outside of the current session"
   ]
  },
  {
   "cell_type": "markdown",
   "id": "474ada27",
   "metadata": {
    "papermill": {
     "duration": 0.003733,
     "end_time": "2025-02-16T16:38:29.712864",
     "exception": false,
     "start_time": "2025-02-16T16:38:29.709131",
     "status": "completed"
    },
    "tags": []
   },
   "source": [
    "**Import All Libraries**"
   ]
  },
  {
   "cell_type": "code",
   "execution_count": 2,
   "id": "b1b2a6a2",
   "metadata": {
    "execution": {
     "iopub.execute_input": "2025-02-16T16:38:29.721836Z",
     "iopub.status.busy": "2025-02-16T16:38:29.721334Z",
     "iopub.status.idle": "2025-02-16T16:38:31.493085Z",
     "shell.execute_reply": "2025-02-16T16:38:31.492067Z"
    },
    "papermill": {
     "duration": 1.778325,
     "end_time": "2025-02-16T16:38:31.494968",
     "exception": false,
     "start_time": "2025-02-16T16:38:29.716643",
     "status": "completed"
    },
    "tags": []
   },
   "outputs": [],
   "source": [
    "import pandas as pd\n",
    "import numpy as np\n",
    "from sklearn.metrics import accuracy_score\n",
    "from sklearn.metrics import mean_squared_error\n",
    "from sklearn.preprocessing import LabelEncoder\n",
    "from sklearn.ensemble import RandomForestRegressor"
   ]
  },
  {
   "cell_type": "markdown",
   "id": "9778f011",
   "metadata": {
    "papermill": {
     "duration": 0.003681,
     "end_time": "2025-02-16T16:38:31.502849",
     "exception": false,
     "start_time": "2025-02-16T16:38:31.499168",
     "status": "completed"
    },
    "tags": []
   },
   "source": [
    "*Import train and test datasets *"
   ]
  },
  {
   "cell_type": "code",
   "execution_count": 3,
   "id": "510f7070",
   "metadata": {
    "execution": {
     "iopub.execute_input": "2025-02-16T16:38:31.512308Z",
     "iopub.status.busy": "2025-02-16T16:38:31.511749Z",
     "iopub.status.idle": "2025-02-16T16:38:32.721403Z",
     "shell.execute_reply": "2025-02-16T16:38:32.720488Z"
    },
    "papermill": {
     "duration": 1.21654,
     "end_time": "2025-02-16T16:38:32.723304",
     "exception": false,
     "start_time": "2025-02-16T16:38:31.506764",
     "status": "completed"
    },
    "tags": []
   },
   "outputs": [],
   "source": [
    "train = pd.read_csv(\"/kaggle/input/playground-series-s5e2/train.csv\")\n",
    "test = pd.read_csv(\"/kaggle/input/playground-series-s5e2/test.csv\")\n"
   ]
  },
  {
   "cell_type": "markdown",
   "id": "abe00a2e",
   "metadata": {
    "papermill": {
     "duration": 0.003732,
     "end_time": "2025-02-16T16:38:32.731537",
     "exception": false,
     "start_time": "2025-02-16T16:38:32.727805",
     "status": "completed"
    },
    "tags": []
   },
   "source": [
    "Check for missing values"
   ]
  },
  {
   "cell_type": "code",
   "execution_count": 4,
   "id": "0a18b964",
   "metadata": {
    "execution": {
     "iopub.execute_input": "2025-02-16T16:38:32.740388Z",
     "iopub.status.busy": "2025-02-16T16:38:32.740012Z",
     "iopub.status.idle": "2025-02-16T16:38:32.923719Z",
     "shell.execute_reply": "2025-02-16T16:38:32.922563Z"
    },
    "papermill": {
     "duration": 0.190089,
     "end_time": "2025-02-16T16:38:32.925494",
     "exception": false,
     "start_time": "2025-02-16T16:38:32.735405",
     "status": "completed"
    },
    "tags": []
   },
   "outputs": [
    {
     "name": "stdout",
     "output_type": "stream",
     "text": [
      "id                         0\n",
      "Brand                   9705\n",
      "Material                8347\n",
      "Size                    6595\n",
      "Compartments               0\n",
      "Laptop Compartment      7444\n",
      "Waterproof              7050\n",
      "Style                   7970\n",
      "Color                   9950\n",
      "Weight Capacity (kg)     138\n",
      "Price                      0\n",
      "dtype: int64\n",
      "id                         0\n",
      "Brand                   6227\n",
      "Material                5613\n",
      "Size                    4381\n",
      "Compartments               0\n",
      "Laptop Compartment      4962\n",
      "Waterproof              4811\n",
      "Style                   5153\n",
      "Color                   6785\n",
      "Weight Capacity (kg)      77\n",
      "dtype: int64\n"
     ]
    }
   ],
   "source": [
    "print(train.isnull().sum())\n",
    "print(test.isnull().sum())"
   ]
  },
  {
   "cell_type": "code",
   "execution_count": 5,
   "id": "0f922d42",
   "metadata": {
    "execution": {
     "iopub.execute_input": "2025-02-16T16:38:32.934505Z",
     "iopub.status.busy": "2025-02-16T16:38:32.934210Z",
     "iopub.status.idle": "2025-02-16T16:38:33.324135Z",
     "shell.execute_reply": "2025-02-16T16:38:33.322838Z"
    },
    "papermill": {
     "duration": 0.397129,
     "end_time": "2025-02-16T16:38:33.326733",
     "exception": false,
     "start_time": "2025-02-16T16:38:32.929604",
     "status": "completed"
    },
    "tags": []
   },
   "outputs": [
    {
     "name": "stdout",
     "output_type": "stream",
     "text": [
      "                  id   Compartments  Weight Capacity (kg)          Price\n",
      "count  300000.000000  300000.000000         299862.000000  300000.000000\n",
      "mean   149999.500000       5.443590             18.029994      81.411107\n",
      "std     86602.684716       2.890766              6.966914      39.039340\n",
      "min         0.000000       1.000000              5.000000      15.000000\n",
      "25%     74999.750000       3.000000             12.097867      47.384620\n",
      "50%    149999.500000       5.000000             18.068614      80.956120\n",
      "75%    224999.250000       8.000000             24.002375     115.018160\n",
      "max    299999.000000      10.000000             30.000000     150.000000\n",
      "                   id   Brand   Material    Size   Compartments  \\\n",
      "count   300000.000000  290295     291653  293405  300000.000000   \n",
      "unique            NaN       5          4       3            NaN   \n",
      "top               NaN  Adidas  Polyester  Medium            NaN   \n",
      "freq              NaN   60077      79630  101906            NaN   \n",
      "mean    149999.500000     NaN        NaN     NaN       5.443590   \n",
      "std      86602.684716     NaN        NaN     NaN       2.890766   \n",
      "min          0.000000     NaN        NaN     NaN       1.000000   \n",
      "25%      74999.750000     NaN        NaN     NaN       3.000000   \n",
      "50%     149999.500000     NaN        NaN     NaN       5.000000   \n",
      "75%     224999.250000     NaN        NaN     NaN       8.000000   \n",
      "max     299999.000000     NaN        NaN     NaN      10.000000   \n",
      "\n",
      "       Laptop Compartment Waterproof      Style   Color  Weight Capacity (kg)  \\\n",
      "count              292556     292950     292030  290050         299862.000000   \n",
      "unique                  2          2          3       6                   NaN   \n",
      "top                   Yes        Yes  Messenger    Pink                   NaN   \n",
      "freq               148342     148077     100031   51690                   NaN   \n",
      "mean                  NaN        NaN        NaN     NaN             18.029994   \n",
      "std                   NaN        NaN        NaN     NaN              6.966914   \n",
      "min                   NaN        NaN        NaN     NaN              5.000000   \n",
      "25%                   NaN        NaN        NaN     NaN             12.097867   \n",
      "50%                   NaN        NaN        NaN     NaN             18.068614   \n",
      "75%                   NaN        NaN        NaN     NaN             24.002375   \n",
      "max                   NaN        NaN        NaN     NaN             30.000000   \n",
      "\n",
      "                Price  \n",
      "count   300000.000000  \n",
      "unique            NaN  \n",
      "top               NaN  \n",
      "freq              NaN  \n",
      "mean        81.411107  \n",
      "std         39.039340  \n",
      "min         15.000000  \n",
      "25%         47.384620  \n",
      "50%         80.956120  \n",
      "75%        115.018160  \n",
      "max        150.000000  \n"
     ]
    },
    {
     "name": "stderr",
     "output_type": "stream",
     "text": [
      "/usr/local/lib/python3.10/dist-packages/pandas/io/formats/format.py:1458: RuntimeWarning: invalid value encountered in greater\n",
      "  has_large_values = (abs_vals > 1e6).any()\n",
      "/usr/local/lib/python3.10/dist-packages/pandas/io/formats/format.py:1459: RuntimeWarning: invalid value encountered in less\n",
      "  has_small_values = ((abs_vals < 10 ** (-self.digits)) & (abs_vals > 0)).any()\n",
      "/usr/local/lib/python3.10/dist-packages/pandas/io/formats/format.py:1459: RuntimeWarning: invalid value encountered in greater\n",
      "  has_small_values = ((abs_vals < 10 ** (-self.digits)) & (abs_vals > 0)).any()\n"
     ]
    }
   ],
   "source": [
    "print(train.describe())\n",
    "print(train.describe(include='all'))\n"
   ]
  },
  {
   "cell_type": "markdown",
   "id": "1782c217",
   "metadata": {
    "papermill": {
     "duration": 0.003906,
     "end_time": "2025-02-16T16:38:33.335318",
     "exception": false,
     "start_time": "2025-02-16T16:38:33.331412",
     "status": "completed"
    },
    "tags": []
   },
   "source": [
    "Changing Categorical columns into Numerical columns for better ML validation"
   ]
  },
  {
   "cell_type": "code",
   "execution_count": 6,
   "id": "21b6d3b5",
   "metadata": {
    "execution": {
     "iopub.execute_input": "2025-02-16T16:38:33.345134Z",
     "iopub.status.busy": "2025-02-16T16:38:33.344703Z",
     "iopub.status.idle": "2025-02-16T16:38:33.484623Z",
     "shell.execute_reply": "2025-02-16T16:38:33.483586Z"
    },
    "papermill": {
     "duration": 0.147068,
     "end_time": "2025-02-16T16:38:33.486582",
     "exception": false,
     "start_time": "2025-02-16T16:38:33.339514",
     "status": "completed"
    },
    "tags": []
   },
   "outputs": [],
   "source": [
    "# Fill missing values with mode using apply\n",
    "for col in ['Laptop Compartment', 'Waterproof']:\n",
    "    train[col] = train[col].fillna(train[col].mode()[0])\n",
    "    test[col] = test[col].fillna(test[col].mode()[0])\n"
   ]
  },
  {
   "cell_type": "code",
   "execution_count": 7,
   "id": "c46a67c8",
   "metadata": {
    "execution": {
     "iopub.execute_input": "2025-02-16T16:38:33.496481Z",
     "iopub.status.busy": "2025-02-16T16:38:33.496154Z",
     "iopub.status.idle": "2025-02-16T16:38:33.501751Z",
     "shell.execute_reply": "2025-02-16T16:38:33.500666Z"
    },
    "papermill": {
     "duration": 0.012301,
     "end_time": "2025-02-16T16:38:33.503357",
     "exception": false,
     "start_time": "2025-02-16T16:38:33.491056",
     "status": "completed"
    },
    "tags": []
   },
   "outputs": [],
   "source": [
    "def clean_and_transform(df):\n",
    "    # Fill missing categorical values\n",
    "    df.fillna({\n",
    "        'Brand': 'Unknown',\n",
    "        'Material': 'Unknown',\n",
    "        'Size': 'Unknown',\n",
    "        'Style': 'Unknown',\n",
    "        'Color': 'Unknown'\n",
    "    }, inplace=True)\n",
    "    \n",
    "    # Fill missing numerical values\n",
    "    df.fillna({\n",
    "        \n",
    "        'Weight Capacity (kg)': df['Weight Capacity (kg)'].median(),\n",
    "        \n",
    "    }, inplace=True)\n",
    "    \n",
    "    # Encode binary categorical columns\n",
    "    df['Laptop Compartment'] = df['Laptop Compartment'].map({'Yes': 1, 'No': 0})\n",
    "    df['Waterproof'] = df['Waterproof'].map({'Yes': 1, 'No': 0})\n",
    "    \n",
    "    return df"
   ]
  },
  {
   "cell_type": "markdown",
   "id": "f6e3685f",
   "metadata": {
    "papermill": {
     "duration": 0.004108,
     "end_time": "2025-02-16T16:38:33.511879",
     "exception": false,
     "start_time": "2025-02-16T16:38:33.507771",
     "status": "completed"
    },
    "tags": []
   },
   "source": [
    "Filling the missing values in binary features with mode"
   ]
  },
  {
   "cell_type": "code",
   "execution_count": 8,
   "id": "6c4b7dd0",
   "metadata": {
    "execution": {
     "iopub.execute_input": "2025-02-16T16:38:33.521568Z",
     "iopub.status.busy": "2025-02-16T16:38:33.521236Z",
     "iopub.status.idle": "2025-02-16T16:38:40.373716Z",
     "shell.execute_reply": "2025-02-16T16:38:40.372426Z"
    },
    "papermill": {
     "duration": 6.859131,
     "end_time": "2025-02-16T16:38:40.375230",
     "exception": false,
     "start_time": "2025-02-16T16:38:33.516099",
     "status": "completed"
    },
    "tags": []
   },
   "outputs": [
    {
     "name": "stdout",
     "output_type": "stream",
     "text": [
      "<class 'pandas.core.frame.DataFrame'>\n",
      "RangeIndex: 300000 entries, 0 to 299999\n",
      "Data columns (total 11 columns):\n",
      " #   Column                Non-Null Count   Dtype  \n",
      "---  ------                --------------   -----  \n",
      " 0   id                    300000 non-null  int64  \n",
      " 1   Brand                 300000 non-null  int64  \n",
      " 2   Material              300000 non-null  int64  \n",
      " 3   Size                  300000 non-null  int64  \n",
      " 4   Compartments          300000 non-null  float64\n",
      " 5   Laptop Compartment    300000 non-null  int64  \n",
      " 6   Waterproof            300000 non-null  int64  \n",
      " 7   Style                 300000 non-null  int64  \n",
      " 8   Color                 300000 non-null  int64  \n",
      " 9   Weight Capacity (kg)  300000 non-null  float64\n",
      " 10  Price                 300000 non-null  float64\n",
      "dtypes: float64(3), int64(8)\n",
      "memory usage: 25.2 MB\n",
      "None\n",
      "<class 'pandas.core.frame.DataFrame'>\n",
      "RangeIndex: 200000 entries, 0 to 199999\n",
      "Data columns (total 10 columns):\n",
      " #   Column                Non-Null Count   Dtype  \n",
      "---  ------                --------------   -----  \n",
      " 0   id                    200000 non-null  int64  \n",
      " 1   Brand                 200000 non-null  int64  \n",
      " 2   Material              200000 non-null  int64  \n",
      " 3   Size                  200000 non-null  int64  \n",
      " 4   Compartments          200000 non-null  float64\n",
      " 5   Laptop Compartment    200000 non-null  int64  \n",
      " 6   Waterproof            200000 non-null  int64  \n",
      " 7   Style                 200000 non-null  int64  \n",
      " 8   Color                 200000 non-null  int64  \n",
      " 9   Weight Capacity (kg)  200000 non-null  float64\n",
      "dtypes: float64(2), int64(8)\n",
      "memory usage: 15.3 MB\n",
      "None\n"
     ]
    }
   ],
   "source": [
    "# Clean train and test datasets\n",
    "train = clean_and_transform(train)\n",
    "test = clean_and_transform(test)\n",
    "\n",
    "categorical_cols = ['Brand', 'Material', 'Size', 'Style', 'Color']\n",
    "le_dict = {}\n",
    "\n",
    "for col in categorical_cols:\n",
    "    le = LabelEncoder()\n",
    "    train[col] = le.fit_transform(train[col])\n",
    "    \n",
    "    # Handle unseen categories in test data\n",
    "    test[col] = test[col].apply(lambda x: x if x in le.classes_ else 'Unknown')\n",
    "    test[col] = le.transform(test[col])\n",
    "\n",
    "# Check results\n",
    "print(train.info())\n",
    "print(test.info())\n"
   ]
  },
  {
   "cell_type": "markdown",
   "id": "9a272c5a",
   "metadata": {
    "papermill": {
     "duration": 0.003956,
     "end_time": "2025-02-16T16:38:40.383501",
     "exception": false,
     "start_time": "2025-02-16T16:38:40.379545",
     "status": "completed"
    },
    "tags": []
   },
   "source": [
    "Prepare Training and Testing data"
   ]
  },
  {
   "cell_type": "code",
   "execution_count": 9,
   "id": "f806671c",
   "metadata": {
    "execution": {
     "iopub.execute_input": "2025-02-16T16:38:40.393303Z",
     "iopub.status.busy": "2025-02-16T16:38:40.392956Z",
     "iopub.status.idle": "2025-02-16T16:38:40.619504Z",
     "shell.execute_reply": "2025-02-16T16:38:40.618268Z"
    },
    "papermill": {
     "duration": 0.233804,
     "end_time": "2025-02-16T16:38:40.621683",
     "exception": false,
     "start_time": "2025-02-16T16:38:40.387879",
     "status": "completed"
    },
    "tags": []
   },
   "outputs": [
    {
     "name": "stdout",
     "output_type": "stream",
     "text": [
      "                  id          Brand       Material           Size  \\\n",
      "count  300000.000000  300000.000000  300000.000000  300000.000000   \n",
      "mean   149999.500000       2.098943       1.623000       1.024677   \n",
      "std     86602.684716       1.502860       1.177303       0.851855   \n",
      "min         0.000000       0.000000       0.000000       0.000000   \n",
      "25%     74999.750000       1.000000       1.000000       0.000000   \n",
      "50%    149999.500000       2.000000       2.000000       1.000000   \n",
      "75%    224999.250000       3.000000       3.000000       2.000000   \n",
      "max    299999.000000       5.000000       4.000000       3.000000   \n",
      "\n",
      "        Compartments  Laptop Compartment     Waterproof          Style  \\\n",
      "count  300000.000000       300000.000000  300000.000000  300000.000000   \n",
      "mean        5.443590            0.519287       0.517090       1.062723   \n",
      "std         2.890766            0.499629       0.499709       0.861587   \n",
      "min         1.000000            0.000000       0.000000       0.000000   \n",
      "25%         3.000000            0.000000       0.000000       0.000000   \n",
      "50%         5.000000            1.000000       1.000000       1.000000   \n",
      "75%         8.000000            1.000000       1.000000       2.000000   \n",
      "max        10.000000            1.000000       1.000000       3.000000   \n",
      "\n",
      "               Color  Weight Capacity (kg)          Price  \n",
      "count  300000.000000         300000.000000  300000.000000  \n",
      "mean        2.634567             18.030012      81.411107  \n",
      "std         1.779632              6.965312      39.039340  \n",
      "min         0.000000              5.000000      15.000000  \n",
      "25%         1.000000             12.099086      47.384620  \n",
      "50%         3.000000             18.068614      80.956120  \n",
      "75%         4.000000             24.001145     115.018160  \n",
      "max         6.000000             30.000000     150.000000  \n",
      "                  id          Brand       Material           Size  \\\n",
      "count  200000.000000  200000.000000  200000.000000  200000.000000   \n",
      "mean   399999.500000       2.095695       1.627540       1.026190   \n",
      "std     57735.171256       1.501083       1.175236       0.852149   \n",
      "min    300000.000000       0.000000       0.000000       0.000000   \n",
      "25%    349999.750000       1.000000       1.000000       0.000000   \n",
      "50%    399999.500000       2.000000       2.000000       1.000000   \n",
      "75%    449999.250000       3.000000       3.000000       2.000000   \n",
      "max    499999.000000       5.000000       4.000000       3.000000   \n",
      "\n",
      "        Compartments  Laptop Compartment     Waterproof          Style  \\\n",
      "count  200000.000000       200000.000000  200000.000000  200000.000000   \n",
      "mean        5.442855            0.518105       0.517025       1.060120   \n",
      "std         2.888740            0.499673       0.499711       0.861249   \n",
      "min         1.000000            0.000000       0.000000       0.000000   \n",
      "25%         3.000000            0.000000       0.000000       0.000000   \n",
      "50%         5.000000            1.000000       1.000000       1.000000   \n",
      "75%         8.000000            1.000000       1.000000       2.000000   \n",
      "max        10.000000            1.000000       1.000000       3.000000   \n",
      "\n",
      "               Color  Weight Capacity (kg)  \n",
      "count  200000.000000         200000.000000  \n",
      "mean        2.638405             17.993057  \n",
      "std         1.782557              6.970737  \n",
      "min         0.000000              5.000000  \n",
      "25%         1.000000             12.069734  \n",
      "50%         3.000000             18.054750  \n",
      "75%         4.000000             23.965658  \n",
      "max         6.000000             30.000000  \n"
     ]
    }
   ],
   "source": [
    "print(train.describe())\n",
    "print(test.describe())"
   ]
  },
  {
   "cell_type": "code",
   "execution_count": 10,
   "id": "9558d8bc",
   "metadata": {
    "execution": {
     "iopub.execute_input": "2025-02-16T16:38:40.632193Z",
     "iopub.status.busy": "2025-02-16T16:38:40.631811Z",
     "iopub.status.idle": "2025-02-16T16:38:40.651181Z",
     "shell.execute_reply": "2025-02-16T16:38:40.650212Z"
    },
    "papermill": {
     "duration": 0.026554,
     "end_time": "2025-02-16T16:38:40.653000",
     "exception": false,
     "start_time": "2025-02-16T16:38:40.626446",
     "status": "completed"
    },
    "tags": []
   },
   "outputs": [],
   "source": [
    "X_train = train.drop(columns=['id', 'Price'])  # Features (excluding target and ID)\n",
    "y_train = train['Price']  # Target variable (Price)\n",
    "\n",
    "\n",
    "X_test = test.drop(columns=['id'])  # Features (test set)\n"
   ]
  },
  {
   "cell_type": "code",
   "execution_count": 11,
   "id": "13f6d153",
   "metadata": {
    "execution": {
     "iopub.execute_input": "2025-02-16T16:38:40.663528Z",
     "iopub.status.busy": "2025-02-16T16:38:40.663191Z",
     "iopub.status.idle": "2025-02-16T16:42:04.475210Z",
     "shell.execute_reply": "2025-02-16T16:42:04.474053Z"
    },
    "papermill": {
     "duration": 203.81955,
     "end_time": "2025-02-16T16:42:04.477200",
     "exception": false,
     "start_time": "2025-02-16T16:38:40.657650",
     "status": "completed"
    },
    "tags": []
   },
   "outputs": [],
   "source": [
    "model = RandomForestRegressor(n_estimators=100, random_state=42)\n",
    "\n",
    "# Train the model\n",
    "model.fit(X_train, y_train)\n",
    "\n",
    "# Predict on the test data\n",
    "predictions = model.predict(X_test)"
   ]
  },
  {
   "cell_type": "code",
   "execution_count": 12,
   "id": "5f1ca0e2",
   "metadata": {
    "execution": {
     "iopub.execute_input": "2025-02-16T16:42:04.487679Z",
     "iopub.status.busy": "2025-02-16T16:42:04.487350Z",
     "iopub.status.idle": "2025-02-16T16:42:04.864872Z",
     "shell.execute_reply": "2025-02-16T16:42:04.863803Z"
    },
    "papermill": {
     "duration": 0.384673,
     "end_time": "2025-02-16T16:42:04.866791",
     "exception": false,
     "start_time": "2025-02-16T16:42:04.482118",
     "status": "completed"
    },
    "tags": []
   },
   "outputs": [],
   "source": [
    "# Create the submission DataFrame\n",
    "submission = pd.DataFrame({'id': test['id'], 'Price': predictions})\n",
    "\n",
    "# Save the submission file\n",
    "submission.to_csv('submission.csv', index=False)"
   ]
  }
 ],
 "metadata": {
  "kaggle": {
   "accelerator": "none",
   "dataSources": [
    {
     "databundleVersionId": 10995111,
     "sourceId": 90274,
     "sourceType": "competition"
    }
   ],
   "dockerImageVersionId": 30886,
   "isGpuEnabled": false,
   "isInternetEnabled": true,
   "language": "python",
   "sourceType": "notebook"
  },
  "kernelspec": {
   "display_name": "Python 3",
   "language": "python",
   "name": "python3"
  },
  "language_info": {
   "codemirror_mode": {
    "name": "ipython",
    "version": 3
   },
   "file_extension": ".py",
   "mimetype": "text/x-python",
   "name": "python",
   "nbconvert_exporter": "python",
   "pygments_lexer": "ipython3",
   "version": "3.10.12"
  },
  "papermill": {
   "default_parameters": {},
   "duration": 219.544519,
   "end_time": "2025-02-16T16:42:05.692064",
   "environment_variables": {},
   "exception": null,
   "input_path": "__notebook__.ipynb",
   "output_path": "__notebook__.ipynb",
   "parameters": {},
   "start_time": "2025-02-16T16:38:26.147545",
   "version": "2.6.0"
  }
 },
 "nbformat": 4,
 "nbformat_minor": 5
}
